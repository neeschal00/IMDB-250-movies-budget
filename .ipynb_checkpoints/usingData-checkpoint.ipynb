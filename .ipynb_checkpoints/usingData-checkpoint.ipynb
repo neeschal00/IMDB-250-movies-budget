{
 "cells": [
  {
   "cell_type": "code",
   "execution_count": 9,
   "metadata": {},
   "outputs": [],
   "source": [
    "import pandas as pd\n",
    "import re"
   ]
  },
  {
   "cell_type": "code",
   "execution_count": 8,
   "metadata": {},
   "outputs": [],
   "source": [
    "from matplotlib import pyplot as plt"
   ]
  },
  {
   "cell_type": "code",
   "execution_count": 4,
   "metadata": {},
   "outputs": [],
   "source": [
    "file_Df = pd.read_csv('imdb_boxOffice.csv')"
   ]
  },
  {
   "cell_type": "code",
   "execution_count": 5,
   "metadata": {},
   "outputs": [
    {
     "data": {
      "text/html": [
       "<div>\n",
       "<style scoped>\n",
       "    .dataframe tbody tr th:only-of-type {\n",
       "        vertical-align: middle;\n",
       "    }\n",
       "\n",
       "    .dataframe tbody tr th {\n",
       "        vertical-align: top;\n",
       "    }\n",
       "\n",
       "    .dataframe thead th {\n",
       "        text-align: right;\n",
       "    }\n",
       "</style>\n",
       "<table border=\"1\" class=\"dataframe\">\n",
       "  <thead>\n",
       "    <tr style=\"text-align: right;\">\n",
       "      <th></th>\n",
       "      <th>Position</th>\n",
       "      <th>Title</th>\n",
       "      <th>Rating</th>\n",
       "      <th>Budget</th>\n",
       "      <th>Opening Weekend USA</th>\n",
       "      <th>Gross USA</th>\n",
       "      <th>Cumulative Worldwide Gross</th>\n",
       "    </tr>\n",
       "  </thead>\n",
       "  <tbody>\n",
       "    <tr>\n",
       "      <th>0</th>\n",
       "      <td>1</td>\n",
       "      <td>The Shawshank Redemption(1994)</td>\n",
       "      <td>9.3</td>\n",
       "      <td>$25,000,000</td>\n",
       "      <td>$727,327</td>\n",
       "      <td>$28,699,976</td>\n",
       "      <td>$28,817,291</td>\n",
       "    </tr>\n",
       "    <tr>\n",
       "      <th>1</th>\n",
       "      <td>2</td>\n",
       "      <td>The Godfather(1972)</td>\n",
       "      <td>9.2</td>\n",
       "      <td>$6,000,000</td>\n",
       "      <td>$302,393</td>\n",
       "      <td>$134,966,411</td>\n",
       "      <td>$246,120,986</td>\n",
       "    </tr>\n",
       "    <tr>\n",
       "      <th>2</th>\n",
       "      <td>4</td>\n",
       "      <td>The Dark Knight(2008)</td>\n",
       "      <td>9.0</td>\n",
       "      <td>$185,000,000</td>\n",
       "      <td>$158,411,483</td>\n",
       "      <td>$534,858,444</td>\n",
       "      <td>$1,005,973,645</td>\n",
       "    </tr>\n",
       "    <tr>\n",
       "      <th>3</th>\n",
       "      <td>3</td>\n",
       "      <td>The Godfather: Part II(1974)</td>\n",
       "      <td>9.0</td>\n",
       "      <td>$13,000,000</td>\n",
       "      <td>$171,417</td>\n",
       "      <td>$47,834,595</td>\n",
       "      <td>$48,035,783</td>\n",
       "    </tr>\n",
       "    <tr>\n",
       "      <th>4</th>\n",
       "      <td>5</td>\n",
       "      <td>12 Angry Men(1957)</td>\n",
       "      <td>9.0</td>\n",
       "      <td>$350,000</td>\n",
       "      <td>NaN</td>\n",
       "      <td>NaN</td>\n",
       "      <td>$955</td>\n",
       "    </tr>\n",
       "    <tr>\n",
       "      <th>...</th>\n",
       "      <td>...</td>\n",
       "      <td>...</td>\n",
       "      <td>...</td>\n",
       "      <td>...</td>\n",
       "      <td>...</td>\n",
       "      <td>...</td>\n",
       "      <td>...</td>\n",
       "    </tr>\n",
       "    <tr>\n",
       "      <th>245</th>\n",
       "      <td>231</td>\n",
       "      <td>Rocky(1976)</td>\n",
       "      <td>8.1</td>\n",
       "      <td>$960,000</td>\n",
       "      <td>NaN</td>\n",
       "      <td>$117,235,147</td>\n",
       "      <td>$117,250,382</td>\n",
       "    </tr>\n",
       "    <tr>\n",
       "      <th>246</th>\n",
       "      <td>225</td>\n",
       "      <td>Life of Brian(1979)</td>\n",
       "      <td>8.1</td>\n",
       "      <td>$4,000,000</td>\n",
       "      <td>$140,034</td>\n",
       "      <td>$20,206,622</td>\n",
       "      <td>$20,742,331</td>\n",
       "    </tr>\n",
       "    <tr>\n",
       "      <th>247</th>\n",
       "      <td>216</td>\n",
       "      <td>Logan(2017)</td>\n",
       "      <td>8.1</td>\n",
       "      <td>$97,000,000</td>\n",
       "      <td>$88,411,916</td>\n",
       "      <td>$226,277,068</td>\n",
       "      <td>$619,179,950</td>\n",
       "    </tr>\n",
       "    <tr>\n",
       "      <th>248</th>\n",
       "      <td>153</td>\n",
       "      <td>Three Billboards Outside Ebbing, Missouri(2017)</td>\n",
       "      <td>8.1</td>\n",
       "      <td>$15,000,000</td>\n",
       "      <td>$322,168</td>\n",
       "      <td>$54,513,740</td>\n",
       "      <td>$160,192,267</td>\n",
       "    </tr>\n",
       "    <tr>\n",
       "      <th>249</th>\n",
       "      <td>209</td>\n",
       "      <td>Harry Potter and the Deathly Hallows: Part 2(2...</td>\n",
       "      <td>8.1</td>\n",
       "      <td>$125,000,000</td>\n",
       "      <td>$169,189,427</td>\n",
       "      <td>$381,409,310</td>\n",
       "      <td>$1,342,321,665</td>\n",
       "    </tr>\n",
       "  </tbody>\n",
       "</table>\n",
       "<p>250 rows × 7 columns</p>\n",
       "</div>"
      ],
      "text/plain": [
       "     Position                                              Title  Rating  \\\n",
       "0           1                     The Shawshank Redemption(1994)     9.3   \n",
       "1           2                                The Godfather(1972)     9.2   \n",
       "2           4                              The Dark Knight(2008)     9.0   \n",
       "3           3                       The Godfather: Part II(1974)     9.0   \n",
       "4           5                                 12 Angry Men(1957)     9.0   \n",
       "..        ...                                                ...     ...   \n",
       "245       231                                        Rocky(1976)     8.1   \n",
       "246       225                                Life of Brian(1979)     8.1   \n",
       "247       216                                        Logan(2017)     8.1   \n",
       "248       153    Three Billboards Outside Ebbing, Missouri(2017)     8.1   \n",
       "249       209  Harry Potter and the Deathly Hallows: Part 2(2...     8.1   \n",
       "\n",
       "           Budget Opening Weekend USA     Gross USA Cumulative Worldwide Gross  \n",
       "0     $25,000,000            $727,327   $28,699,976                $28,817,291  \n",
       "1      $6,000,000            $302,393  $134,966,411               $246,120,986  \n",
       "2    $185,000,000        $158,411,483  $534,858,444             $1,005,973,645  \n",
       "3     $13,000,000            $171,417   $47,834,595                $48,035,783  \n",
       "4        $350,000                 NaN           NaN                       $955  \n",
       "..            ...                 ...           ...                        ...  \n",
       "245      $960,000                 NaN  $117,235,147               $117,250,382  \n",
       "246    $4,000,000            $140,034   $20,206,622                $20,742,331  \n",
       "247   $97,000,000         $88,411,916  $226,277,068               $619,179,950  \n",
       "248   $15,000,000            $322,168   $54,513,740               $160,192,267  \n",
       "249  $125,000,000        $169,189,427  $381,409,310             $1,342,321,665  \n",
       "\n",
       "[250 rows x 7 columns]"
      ]
     },
     "execution_count": 5,
     "metadata": {},
     "output_type": "execute_result"
    }
   ],
   "source": [
    "file_Df"
   ]
  },
  {
   "cell_type": "code",
   "execution_count": 6,
   "metadata": {},
   "outputs": [],
   "source": [
    "#TO GET THE YEAR FROM EACH TITLE \n",
    "def getYear(title:str) -> str:\n",
    "    pattern = re.compile(r\"\\(\\d+\\)\")\n",
    "    data = pattern.search(title)\n",
    "    return data.group(0).strip(\"()\")"
   ]
  },
  {
   "cell_type": "code",
   "execution_count": 10,
   "metadata": {},
   "outputs": [
    {
     "data": {
      "text/plain": [
       "'2017'"
      ]
     },
     "execution_count": 10,
     "metadata": {},
     "output_type": "execute_result"
    }
   ],
   "source": [
    "getYear('Three Billboards Outside Ebbing, Missouri(2017)')"
   ]
  },
  {
   "cell_type": "code",
   "execution_count": 16,
   "metadata": {},
   "outputs": [],
   "source": [
    "file_Df[[\"Title\",\"Year\"]] = file_Df.Title.str.extract(r\"(.*)(\\(\\d+\\))\",expand=True)"
   ]
  },
  {
   "cell_type": "code",
   "execution_count": 21,
   "metadata": {},
   "outputs": [],
   "source": [
    "file_Df[\"Year\"] = file_Df[\"Year\"].apply(lambda x: int(x.strip(\"()\")))"
   ]
  },
  {
   "cell_type": "code",
   "execution_count": 23,
   "metadata": {},
   "outputs": [
    {
     "data": {
      "text/plain": [
       "Position                        int64\n",
       "Title                          object\n",
       "Rating                        float64\n",
       "Budget                         object\n",
       "Opening Weekend USA            object\n",
       "Gross USA                      object\n",
       "Cumulative Worldwide Gross     object\n",
       "Year                            int64\n",
       "dtype: object"
      ]
     },
     "execution_count": 23,
     "metadata": {},
     "output_type": "execute_result"
    }
   ],
   "source": [
    "file_Df.dtypes"
   ]
  },
  {
   "cell_type": "code",
   "execution_count": null,
   "metadata": {},
   "outputs": [],
   "source": []
  },
  {
   "cell_type": "code",
   "execution_count": null,
   "metadata": {},
   "outputs": [],
   "source": []
  }
 ],
 "metadata": {
  "kernelspec": {
   "display_name": "Python 3",
   "language": "python",
   "name": "python3"
  },
  "language_info": {
   "codemirror_mode": {
    "name": "ipython",
    "version": 3
   },
   "file_extension": ".py",
   "mimetype": "text/x-python",
   "name": "python",
   "nbconvert_exporter": "python",
   "pygments_lexer": "ipython3",
   "version": "3.8.6"
  }
 },
 "nbformat": 4,
 "nbformat_minor": 4
}
