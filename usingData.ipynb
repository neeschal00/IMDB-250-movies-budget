{
 "cells": [
  {
   "cell_type": "code",
   "execution_count": 1,
   "metadata": {},
   "outputs": [],
   "source": [
    "import pandas as pd\n",
    "import re\n",
    "pd.set_option('display.max_columns',10)\n",
    "pd.set_option('display.max_rows',20)"
   ]
  },
  {
   "cell_type": "code",
   "execution_count": 2,
   "metadata": {},
   "outputs": [],
   "source": [
    "from matplotlib import pyplot as plt\n",
    "plt.style.use('seaborn')"
   ]
  },
  {
   "cell_type": "code",
   "execution_count": 3,
   "metadata": {},
   "outputs": [],
   "source": [
    "file_Df = pd.read_csv('imdb_boxOffice.csv')"
   ]
  },
  {
   "cell_type": "code",
   "execution_count": 4,
   "metadata": {},
   "outputs": [],
   "source": [
    "#TO GET THE YEAR FROM EACH TITLE \n",
    "def getYear(title:str) -> str:\n",
    "    pattern = re.compile(r\"\\(\\d+\\)\")\n",
    "    data = pattern.search(title)\n",
    "    return data.group(0).strip(\"()\")"
   ]
  },
  {
   "cell_type": "code",
   "execution_count": 5,
   "metadata": {},
   "outputs": [
    {
     "data": {
      "text/plain": [
       "'2017'"
      ]
     },
     "execution_count": 5,
     "metadata": {},
     "output_type": "execute_result"
    }
   ],
   "source": [
    "getYear('Three Billboards Outside Ebbing, Missouri(2017)')"
   ]
  },
  {
   "cell_type": "code",
   "execution_count": 6,
   "metadata": {},
   "outputs": [],
   "source": [
    "file_Df[[\"Title\",\"Year\"]] = file_Df.Title.str.extract(r\"(.*)(\\(\\d+\\))\",expand=True)"
   ]
  },
  {
   "cell_type": "code",
   "execution_count": 7,
   "metadata": {},
   "outputs": [],
   "source": [
    "imdb_df = file_Df.sort_values(by=\"Position\",ascending=True)"
   ]
  },
  {
   "cell_type": "code",
   "execution_count": 8,
   "metadata": {},
   "outputs": [],
   "source": [
    "imdb_df[\"Year\"] = imdb_df[\"Year\"].apply(lambda x: int(x.strip(\"()\")))"
   ]
  },
  {
   "cell_type": "code",
   "execution_count": 15,
   "metadata": {},
   "outputs": [
    {
     "data": {
      "image/png": "[encoded data removed]",
      "text/plain": [
       "<Figure size 576x396 with 1 Axes>"
      ]
     },
     "metadata": {},
     "output_type": "display_data"
    }
   ],
   "source": [
    "plt.scatter(imdb_df.Year,imdb_df.Rating)\n",
    "plt.xlabel('Year')\n",
    "plt.ylabel('Rating')\n",
    "plt.tight_layout()\n",
    "plt.show()"
   ]
  },
  {
   "cell_type": "code",
   "execution_count": 16,
   "metadata": {},
   "outputs": [],
   "source": [
    "imdb_na = imdb_df.dropna(how='all')"
   ]
  },
  {
   "cell_type": "code",
   "execution_count": 17,
   "metadata": {},
   "outputs": [
    {
     "data": {
      "text/html": [
       "<div>\n",
       "<style scoped>\n",
       "    .dataframe tbody tr th:only-of-type {\n",
       "        vertical-align: middle;\n",
       "    }\n",
       "\n",
       "    .dataframe tbody tr th {\n",
       "        vertical-align: top;\n",
       "    }\n",
       "\n",
       "    .dataframe thead th {\n",
       "        text-align: right;\n",
       "    }\n",
       "</style>\n",
       "<table border=\"1\" class=\"dataframe\">\n",
       "  <thead>\n",
       "    <tr style=\"text-align: right;\">\n",
       "      <th></th>\n",
       "      <th>Position</th>\n",
       "      <th>Title</th>\n",
       "      <th>Rating</th>\n",
       "      <th>Budget</th>\n",
       "      <th>Opening Weekend USA</th>\n",
       "      <th>Gross USA</th>\n",
       "      <th>Cumulative Worldwide Gross</th>\n",
       "      <th>Year</th>\n",
       "    </tr>\n",
       "  </thead>\n",
       "  <tbody>\n",
       "    <tr>\n",
       "      <th>0</th>\n",
       "      <td>1</td>\n",
       "      <td>The Shawshank Redemption</td>\n",
       "      <td>9.3</td>\n",
       "      <td>$25,000,000</td>\n",
       "      <td>$727,327</td>\n",
       "      <td>$28,699,976</td>\n",
       "      <td>$28,817,291</td>\n",
       "      <td>1994</td>\n",
       "    </tr>\n",
       "    <tr>\n",
       "      <th>1</th>\n",
       "      <td>2</td>\n",
       "      <td>The Godfather</td>\n",
       "      <td>9.2</td>\n",
       "      <td>$6,000,000</td>\n",
       "      <td>$302,393</td>\n",
       "      <td>$134,966,411</td>\n",
       "      <td>$246,120,986</td>\n",
       "      <td>1972</td>\n",
       "    </tr>\n",
       "    <tr>\n",
       "      <th>3</th>\n",
       "      <td>3</td>\n",
       "      <td>The Godfather: Part II</td>\n",
       "      <td>9.0</td>\n",
       "      <td>$13,000,000</td>\n",
       "      <td>$171,417</td>\n",
       "      <td>$47,834,595</td>\n",
       "      <td>$48,035,783</td>\n",
       "      <td>1974</td>\n",
       "    </tr>\n",
       "    <tr>\n",
       "      <th>2</th>\n",
       "      <td>4</td>\n",
       "      <td>The Dark Knight</td>\n",
       "      <td>9.0</td>\n",
       "      <td>$185,000,000</td>\n",
       "      <td>$158,411,483</td>\n",
       "      <td>$534,858,444</td>\n",
       "      <td>$1,005,973,645</td>\n",
       "      <td>2008</td>\n",
       "    </tr>\n",
       "    <tr>\n",
       "      <th>4</th>\n",
       "      <td>5</td>\n",
       "      <td>12 Angry Men</td>\n",
       "      <td>9.0</td>\n",
       "      <td>$350,000</td>\n",
       "      <td>NaN</td>\n",
       "      <td>NaN</td>\n",
       "      <td>$955</td>\n",
       "      <td>1957</td>\n",
       "    </tr>\n",
       "    <tr>\n",
       "      <th>...</th>\n",
       "      <td>...</td>\n",
       "      <td>...</td>\n",
       "      <td>...</td>\n",
       "      <td>...</td>\n",
       "      <td>...</td>\n",
       "      <td>...</td>\n",
       "      <td>...</td>\n",
       "      <td>...</td>\n",
       "    </tr>\n",
       "    <tr>\n",
       "      <th>130</th>\n",
       "      <td>246</td>\n",
       "      <td>Mandariinid</td>\n",
       "      <td>8.2</td>\n",
       "      <td>EUR650,000</td>\n",
       "      <td>$5,180</td>\n",
       "      <td>$144,501</td>\n",
       "      <td>$1,024,132</td>\n",
       "      <td>2013</td>\n",
       "    </tr>\n",
       "    <tr>\n",
       "      <th>136</th>\n",
       "      <td>247</td>\n",
       "      <td>Drishyam</td>\n",
       "      <td>8.2</td>\n",
       "      <td>$9,400,000</td>\n",
       "      <td>NaN</td>\n",
       "      <td>NaN</td>\n",
       "      <td>NaN</td>\n",
       "      <td>2015</td>\n",
       "    </tr>\n",
       "    <tr>\n",
       "      <th>184</th>\n",
       "      <td>248</td>\n",
       "      <td>La battaglia di Algeri</td>\n",
       "      <td>8.1</td>\n",
       "      <td>$800,000</td>\n",
       "      <td>$64,870</td>\n",
       "      <td>$879,794</td>\n",
       "      <td>$964,028</td>\n",
       "      <td>1966</td>\n",
       "    </tr>\n",
       "    <tr>\n",
       "      <th>134</th>\n",
       "      <td>249</td>\n",
       "      <td>Swades: We, the People</td>\n",
       "      <td>8.2</td>\n",
       "      <td>NaN</td>\n",
       "      <td>$424,804</td>\n",
       "      <td>$1,223,240</td>\n",
       "      <td>$1,953,889</td>\n",
       "      <td>2004</td>\n",
       "    </tr>\n",
       "    <tr>\n",
       "      <th>200</th>\n",
       "      <td>250</td>\n",
       "      <td>Song of the Sea</td>\n",
       "      <td>8.1</td>\n",
       "      <td>EUR5,300,000</td>\n",
       "      <td>$21,910</td>\n",
       "      <td>$857,522</td>\n",
       "      <td>$4,190,884</td>\n",
       "      <td>2014</td>\n",
       "    </tr>\n",
       "  </tbody>\n",
       "</table>\n",
       "<p>250 rows × 8 columns</p>\n",
       "</div>"
      ],
      "text/plain": [
       "     Position                     Title  Rating         Budget  \\\n",
       "0           1  The Shawshank Redemption     9.3   $25,000,000    \n",
       "1           2             The Godfather     9.2    $6,000,000    \n",
       "3           3    The Godfather: Part II     9.0   $13,000,000    \n",
       "2           4           The Dark Knight     9.0  $185,000,000    \n",
       "4           5              12 Angry Men     9.0      $350,000    \n",
       "..        ...                       ...     ...            ...   \n",
       "130       246               Mandariinid     8.2     EUR650,000   \n",
       "136       247                  Drishyam     8.2    $9,400,000    \n",
       "184       248    La battaglia di Algeri     8.1      $800,000    \n",
       "134       249    Swades: We, the People     8.2            NaN   \n",
       "200       250           Song of the Sea     8.1   EUR5,300,000   \n",
       "\n",
       "    Opening Weekend USA      Gross USA Cumulative Worldwide Gross  Year  \n",
       "0             $727,327    $28,699,976                $28,817,291   1994  \n",
       "1             $302,393   $134,966,411               $246,120,986   1972  \n",
       "3             $171,417    $47,834,595                $48,035,783   1974  \n",
       "2         $158,411,483   $534,858,444             $1,005,973,645   2008  \n",
       "4                   NaN            NaN                      $955   1957  \n",
       "..                  ...            ...                        ...   ...  \n",
       "130             $5,180       $144,501                 $1,024,132   2013  \n",
       "136                 NaN            NaN                        NaN  2015  \n",
       "184            $64,870       $879,794                   $964,028   1966  \n",
       "134           $424,804     $1,223,240                 $1,953,889   2004  \n",
       "200            $21,910       $857,522                 $4,190,884   2014  \n",
       "\n",
       "[250 rows x 8 columns]"
      ]
     },
     "execution_count": 17,
     "metadata": {},
     "output_type": "execute_result"
    }
   ],
   "source": [
    "imdb_na"
   ]
  },
  {
   "cell_type": "code",
   "execution_count": 18,
   "metadata": {},
   "outputs": [
    {
     "data": {
      "text/html": [
       "<div>\n",
       "<style scoped>\n",
       "    .dataframe tbody tr th:only-of-type {\n",
       "        vertical-align: middle;\n",
       "    }\n",
       "\n",
       "    .dataframe tbody tr th {\n",
       "        vertical-align: top;\n",
       "    }\n",
       "\n",
       "    .dataframe thead th {\n",
       "        text-align: right;\n",
       "    }\n",
       "</style>\n",
       "<table border=\"1\" class=\"dataframe\">\n",
       "  <thead>\n",
       "    <tr style=\"text-align: right;\">\n",
       "      <th></th>\n",
       "      <th>Budget</th>\n",
       "      <th>Cumulative Worldwide Gross</th>\n",
       "    </tr>\n",
       "  </thead>\n",
       "  <tbody>\n",
       "    <tr>\n",
       "      <th>0</th>\n",
       "      <td>$25,000,000</td>\n",
       "      <td>$28,817,291</td>\n",
       "    </tr>\n",
       "    <tr>\n",
       "      <th>1</th>\n",
       "      <td>$6,000,000</td>\n",
       "      <td>$246,120,986</td>\n",
       "    </tr>\n",
       "    <tr>\n",
       "      <th>3</th>\n",
       "      <td>$13,000,000</td>\n",
       "      <td>$48,035,783</td>\n",
       "    </tr>\n",
       "    <tr>\n",
       "      <th>2</th>\n",
       "      <td>$185,000,000</td>\n",
       "      <td>$1,005,973,645</td>\n",
       "    </tr>\n",
       "    <tr>\n",
       "      <th>4</th>\n",
       "      <td>$350,000</td>\n",
       "      <td>$955</td>\n",
       "    </tr>\n",
       "    <tr>\n",
       "      <th>...</th>\n",
       "      <td>...</td>\n",
       "      <td>...</td>\n",
       "    </tr>\n",
       "    <tr>\n",
       "      <th>130</th>\n",
       "      <td>EUR650,000</td>\n",
       "      <td>$1,024,132</td>\n",
       "    </tr>\n",
       "    <tr>\n",
       "      <th>136</th>\n",
       "      <td>$9,400,000</td>\n",
       "      <td>NaN</td>\n",
       "    </tr>\n",
       "    <tr>\n",
       "      <th>184</th>\n",
       "      <td>$800,000</td>\n",
       "      <td>$964,028</td>\n",
       "    </tr>\n",
       "    <tr>\n",
       "      <th>134</th>\n",
       "      <td>NaN</td>\n",
       "      <td>$1,953,889</td>\n",
       "    </tr>\n",
       "    <tr>\n",
       "      <th>200</th>\n",
       "      <td>EUR5,300,000</td>\n",
       "      <td>$4,190,884</td>\n",
       "    </tr>\n",
       "  </tbody>\n",
       "</table>\n",
       "<p>250 rows × 2 columns</p>\n",
       "</div>"
      ],
      "text/plain": [
       "            Budget Cumulative Worldwide Gross\n",
       "0     $25,000,000                $28,817,291 \n",
       "1      $6,000,000               $246,120,986 \n",
       "3     $13,000,000                $48,035,783 \n",
       "2    $185,000,000             $1,005,973,645 \n",
       "4        $350,000                       $955 \n",
       "..             ...                        ...\n",
       "130     EUR650,000                $1,024,132 \n",
       "136    $9,400,000                         NaN\n",
       "184      $800,000                   $964,028 \n",
       "134            NaN                $1,953,889 \n",
       "200   EUR5,300,000                $4,190,884 \n",
       "\n",
       "[250 rows x 2 columns]"
      ]
     },
     "execution_count": 18,
     "metadata": {},
     "output_type": "execute_result"
    }
   ],
   "source": [
    "imdb_na[[\"Budget\",\"Cumulative Worldwide Gross\"]]"
   ]
  },
  {
   "cell_type": "code",
   "execution_count": 19,
   "metadata": {},
   "outputs": [
    {
     "data": {
      "text/html": [
       "<div>\n",
       "<style scoped>\n",
       "    .dataframe tbody tr th:only-of-type {\n",
       "        vertical-align: middle;\n",
       "    }\n",
       "\n",
       "    .dataframe tbody tr th {\n",
       "        vertical-align: top;\n",
       "    }\n",
       "\n",
       "    .dataframe thead th {\n",
       "        text-align: right;\n",
       "    }\n",
       "</style>\n",
       "<table border=\"1\" class=\"dataframe\">\n",
       "  <thead>\n",
       "    <tr style=\"text-align: right;\">\n",
       "      <th></th>\n",
       "      <th>Position</th>\n",
       "      <th>Title</th>\n",
       "      <th>Rating</th>\n",
       "      <th>Budget</th>\n",
       "      <th>Opening Weekend USA</th>\n",
       "      <th>Gross USA</th>\n",
       "      <th>Cumulative Worldwide Gross</th>\n",
       "      <th>Year</th>\n",
       "    </tr>\n",
       "  </thead>\n",
       "  <tbody>\n",
       "    <tr>\n",
       "      <th>0</th>\n",
       "      <td>1</td>\n",
       "      <td>The Shawshank Redemption</td>\n",
       "      <td>9.3</td>\n",
       "      <td>$25,000,000</td>\n",
       "      <td>$727,327</td>\n",
       "      <td>$28,699,976</td>\n",
       "      <td>$28,817,291</td>\n",
       "      <td>1994</td>\n",
       "    </tr>\n",
       "    <tr>\n",
       "      <th>1</th>\n",
       "      <td>2</td>\n",
       "      <td>The Godfather</td>\n",
       "      <td>9.2</td>\n",
       "      <td>$6,000,000</td>\n",
       "      <td>$302,393</td>\n",
       "      <td>$134,966,411</td>\n",
       "      <td>$246,120,986</td>\n",
       "      <td>1972</td>\n",
       "    </tr>\n",
       "    <tr>\n",
       "      <th>3</th>\n",
       "      <td>3</td>\n",
       "      <td>The Godfather: Part II</td>\n",
       "      <td>9.0</td>\n",
       "      <td>$13,000,000</td>\n",
       "      <td>$171,417</td>\n",
       "      <td>$47,834,595</td>\n",
       "      <td>$48,035,783</td>\n",
       "      <td>1974</td>\n",
       "    </tr>\n",
       "    <tr>\n",
       "      <th>2</th>\n",
       "      <td>4</td>\n",
       "      <td>The Dark Knight</td>\n",
       "      <td>9.0</td>\n",
       "      <td>$185,000,000</td>\n",
       "      <td>$158,411,483</td>\n",
       "      <td>$534,858,444</td>\n",
       "      <td>$1,005,973,645</td>\n",
       "      <td>2008</td>\n",
       "    </tr>\n",
       "    <tr>\n",
       "      <th>4</th>\n",
       "      <td>5</td>\n",
       "      <td>12 Angry Men</td>\n",
       "      <td>9.0</td>\n",
       "      <td>$350,000</td>\n",
       "      <td>NaN</td>\n",
       "      <td>NaN</td>\n",
       "      <td>$955</td>\n",
       "      <td>1957</td>\n",
       "    </tr>\n",
       "    <tr>\n",
       "      <th>...</th>\n",
       "      <td>...</td>\n",
       "      <td>...</td>\n",
       "      <td>...</td>\n",
       "      <td>...</td>\n",
       "      <td>...</td>\n",
       "      <td>...</td>\n",
       "      <td>...</td>\n",
       "      <td>...</td>\n",
       "    </tr>\n",
       "    <tr>\n",
       "      <th>239</th>\n",
       "      <td>235</td>\n",
       "      <td>Rebecca</td>\n",
       "      <td>8.1</td>\n",
       "      <td>$1,288,000</td>\n",
       "      <td>NaN</td>\n",
       "      <td>NaN</td>\n",
       "      <td>$72,275</td>\n",
       "      <td>1940</td>\n",
       "    </tr>\n",
       "    <tr>\n",
       "      <th>195</th>\n",
       "      <td>236</td>\n",
       "      <td>Before Sunset</td>\n",
       "      <td>8.1</td>\n",
       "      <td>$2,700,000</td>\n",
       "      <td>$219,425</td>\n",
       "      <td>$5,820,649</td>\n",
       "      <td>$15,936,507</td>\n",
       "      <td>2004</td>\n",
       "    </tr>\n",
       "    <tr>\n",
       "      <th>198</th>\n",
       "      <td>244</td>\n",
       "      <td>It Happened One Night</td>\n",
       "      <td>8.1</td>\n",
       "      <td>$325,000</td>\n",
       "      <td>NaN</td>\n",
       "      <td>NaN</td>\n",
       "      <td>NaN</td>\n",
       "      <td>1934</td>\n",
       "    </tr>\n",
       "    <tr>\n",
       "      <th>136</th>\n",
       "      <td>247</td>\n",
       "      <td>Drishyam</td>\n",
       "      <td>8.2</td>\n",
       "      <td>$9,400,000</td>\n",
       "      <td>NaN</td>\n",
       "      <td>NaN</td>\n",
       "      <td>NaN</td>\n",
       "      <td>2015</td>\n",
       "    </tr>\n",
       "    <tr>\n",
       "      <th>184</th>\n",
       "      <td>248</td>\n",
       "      <td>La battaglia di Algeri</td>\n",
       "      <td>8.1</td>\n",
       "      <td>$800,000</td>\n",
       "      <td>$64,870</td>\n",
       "      <td>$879,794</td>\n",
       "      <td>$964,028</td>\n",
       "      <td>1966</td>\n",
       "    </tr>\n",
       "  </tbody>\n",
       "</table>\n",
       "<p>195 rows × 8 columns</p>\n",
       "</div>"
      ],
      "text/plain": [
       "     Position                     Title  Rating         Budget  \\\n",
       "0           1  The Shawshank Redemption     9.3   $25,000,000    \n",
       "1           2             The Godfather     9.2    $6,000,000    \n",
       "3           3    The Godfather: Part II     9.0   $13,000,000    \n",
       "2           4           The Dark Knight     9.0  $185,000,000    \n",
       "4           5              12 Angry Men     9.0      $350,000    \n",
       "..        ...                       ...     ...            ...   \n",
       "239       235                   Rebecca     8.1    $1,288,000    \n",
       "195       236             Before Sunset     8.1    $2,700,000    \n",
       "198       244     It Happened One Night     8.1      $325,000    \n",
       "136       247                  Drishyam     8.2    $9,400,000    \n",
       "184       248    La battaglia di Algeri     8.1      $800,000    \n",
       "\n",
       "    Opening Weekend USA      Gross USA Cumulative Worldwide Gross  Year  \n",
       "0             $727,327    $28,699,976                $28,817,291   1994  \n",
       "1             $302,393   $134,966,411               $246,120,986   1972  \n",
       "3             $171,417    $47,834,595                $48,035,783   1974  \n",
       "2         $158,411,483   $534,858,444             $1,005,973,645   2008  \n",
       "4                   NaN            NaN                      $955   1957  \n",
       "..                  ...            ...                        ...   ...  \n",
       "239                 NaN            NaN                   $72,275   1940  \n",
       "195           $219,425     $5,820,649                $15,936,507   2004  \n",
       "198                 NaN            NaN                        NaN  1934  \n",
       "136                 NaN            NaN                        NaN  2015  \n",
       "184            $64,870       $879,794                   $964,028   1966  \n",
       "\n",
       "[195 rows x 8 columns]"
      ]
     },
     "execution_count": 19,
     "metadata": {},
     "output_type": "execute_result"
    }
   ],
   "source": [
    "imdb_na.drop(imdb_na[(imdb_na[\"Budget\"].isna() | (~imdb_na[\"Budget\"].str.startswith('$',na=False))) ].index,inplace=False)"
   ]
  },
  {
   "cell_type": "code",
   "execution_count": 20,
   "metadata": {},
   "outputs": [],
   "source": [
    "imdb_budget = imdb_na.drop(imdb_na[(imdb_na[\"Budget\"].isna() | (~imdb_na[\"Budget\"].str.startswith('$',na=False))) ].index,inplace=False)"
   ]
  },
  {
   "cell_type": "code",
   "execution_count": 21,
   "metadata": {},
   "outputs": [],
   "source": [
    "# imdb_budget.drop([\"Opening Weekend USA\",\"Gross USA\",\"Cumulative Worldwide Gross\"],axis=1,inplace=True) #Dropping unwanted columns"
   ]
  },
  {
   "cell_type": "code",
   "execution_count": 22,
   "metadata": {},
   "outputs": [],
   "source": [
    "imdb_budget[\"Budget\"] = imdb_budget[\"Budget\"].str.replace(\"$\",\"\")"
   ]
  },
  {
   "cell_type": "code",
   "execution_count": 23,
   "metadata": {},
   "outputs": [],
   "source": [
    "imdb_budget[\"Budget\"] = imdb_budget[\"Budget\"].str.replace(\",\",\"\")"
   ]
  },
  {
   "cell_type": "code",
   "execution_count": 59,
   "metadata": {},
   "outputs": [],
   "source": [
    "imdb_budget[\"Budget\"] = pd.to_numeric(imdb_budget[\"Budget\"])"
   ]
  },
  {
   "cell_type": "code",
   "execution_count": 62,
   "metadata": {},
   "outputs": [
    {
     "data": {
      "text/plain": [
       "Position                        int64\n",
       "Title                          object\n",
       "Rating                        float64\n",
       "Budget                          int64\n",
       "Opening Weekend USA            object\n",
       "Gross USA                      object\n",
       "Cumulative Worldwide Gross     object\n",
       "Year                            int64\n",
       "dtype: object"
      ]
     },
     "execution_count": 62,
     "metadata": {},
     "output_type": "execute_result"
    }
   ],
   "source": [
    "imdb_budget.dtypes"
   ]
  },
  {
   "cell_type": "code",
   "execution_count": 64,
   "metadata": {},
   "outputs": [],
   "source": [
    "imdb_two = imdb_budget[imdb_budget[\"Year\"] >= 2000 ]"
   ]
  },
  {
   "cell_type": "code",
   "execution_count": 65,
   "metadata": {},
   "outputs": [],
   "source": [
    "imdb_ninety = imdb_budget[imdb_budget[\"Year\"] < 2000]"
   ]
  },
  {
   "cell_type": "code",
   "execution_count": 66,
   "metadata": {},
   "outputs": [
    {
     "data": {
      "text/plain": [
       "'The average budget of both movies released before 2000s and after 2000s are '"
      ]
     },
     "execution_count": 66,
     "metadata": {},
     "output_type": "execute_result"
    }
   ],
   "source": [
    "\"\"\"The average budget of both movies released before 2000s and after 2000s are \"\"\""
   ]
  },
  {
   "cell_type": "code",
   "execution_count": 67,
   "metadata": {},
   "outputs": [],
   "source": [
    "avg_nos = imdb_ninety[\"Budget\"].mean() #meaning avg budget of movies relased in 1900s was $15,323,432"
   ]
  },
  {
   "cell_type": "code",
   "execution_count": 68,
   "metadata": {},
   "outputs": [],
   "source": [
    "avg_twens = imdb_two[\"Budget\"].mean() #avg budget of movies released in 2000s uptil now is $68,75,7692"
   ]
  },
  {
   "cell_type": "code",
   "execution_count": 70,
   "metadata": {},
   "outputs": [],
   "source": [
    "labels = [\"1900s\",\"2000s\"]"
   ]
  },
  {
   "cell_type": "code",
   "execution_count": 71,
   "metadata": {},
   "outputs": [],
   "source": [
    "data = [(avg_nos/1000000),(avg_twens/1000000)]"
   ]
  },
  {
   "cell_type": "code",
   "execution_count": 72,
   "metadata": {},
   "outputs": [
    {
     "data": {
      "image/png": "[encoded data removed]",
      "text/plain": [
       "<Figure size 576x396 with 1 Axes>"
      ]
     },
     "metadata": {},
     "output_type": "display_data"
    }
   ],
   "source": [
    "plt.title(\"Budget of Movies listed in IMDb's top 250\")\n",
    "plt.bar(labels,data)\n",
    "plt.xlabel(\"Average budget of movies\")\n",
    "plt.ylabel(\"Amount in Millions of USD($)\")\n",
    "plt.tight_layout()\n",
    "plt.show()"
   ]
  },
  {
   "cell_type": "code",
   "execution_count": null,
   "metadata": {},
   "outputs": [],
   "source": [
    "imdb_budget[]"
   ]
  }
 ],
 "metadata": {
  "kernelspec": {
   "display_name": "Python 3",
   "language": "python",
   "name": "python3"
  },
  "language_info": {
   "codemirror_mode": {
    "name": "ipython",
    "version": 3
   },
   "file_extension": ".py",
   "mimetype": "text/x-python",
   "name": "python",
   "nbconvert_exporter": "python",
   "pygments_lexer": "ipython3",
   "version": "3.8.6"
  }
 },
 "nbformat": 4,
 "nbformat_minor": 4
}
